{
  "cells": [
    {
      "cell_type": "code",
      "execution_count": null,
      "metadata": {
        "colab": {
          "base_uri": "https://localhost:8080/"
        },
        "id": "QZZ3vVWfR6z8",
        "outputId": "32f8ccd2-06bb-4a52-f438-6c33ffff8ffa"
      },
      "outputs": [
        {
          "output_type": "stream",
          "name": "stdout",
          "text": [
            "Mounted at /content/drive\n"
          ]
        }
      ],
      "source": [
        "from google.colab import drive\n",
        "drive.mount('/content/drive', force_remount=True)"
      ]
    },
    {
      "cell_type": "code",
      "execution_count": null,
      "metadata": {
        "id": "d92CjA0uR8wO"
      },
      "outputs": [],
      "source": [
        "# Import libraries\n",
        "from mpl_toolkits import mplot3d\n",
        "import glob\n",
        "import pandas as pd\n",
        "import matplotlib.pyplot as plt\n",
        "from sklearn.preprocessing import MinMaxScaler\n",
        "import numpy as np\n",
        "import os\n",
        "import tensorflow as tf\n",
        "from tensorflow import keras\n",
        "from tensorflow.keras import layers\n",
        "from sklearn.model_selection import train_test_split"
      ]
    },
    {
      "cell_type": "code",
      "execution_count": null,
      "metadata": {
        "colab": {
          "base_uri": "https://localhost:8080/"
        },
        "id": "iXb1aekXmoXt",
        "outputId": "3e997c79-d3e0-41d6-8986-b0a33adfa9e1"
      },
      "outputs": [
        {
          "output_type": "stream",
          "name": "stdout",
          "text": [
            "1168\n"
          ]
        }
      ],
      "source": [
        "count = 0\n",
        "combined = pd.DataFrame()\n",
        "for filename in os.listdir(\"/content/drive/My Drive/ML_PROJECT/Kitti Dataset/oxts/data/\"):\n",
        "   with open(os.path.join(\"/content/drive/My Drive/ML_PROJECT/Kitti Dataset/oxts/data/\", filename), 'r') as f:\n",
        "     df=pd.read_csv(f, sep=\" \", names= ['Latitude', 'Longitude','alt','roll4','pitch5','yaw6','vn7','ve8','vf9','vl10',\n",
        "                                         'vu11','ax12','ay13','ay14','af15','al16','au17','wx18','wy19','wz20','wf21','wl22',\n",
        "                                         'wu23','pos_accuracy24','vel_accuracy25','navstat26','numsats27','posmode28','velmode29','orimode30'])\n",
        "     combined = combined.append(df, ignore_index=True)\n",
        "     count = count+1     \n",
        "print(count)     "
      ]
    },
    {
      "cell_type": "code",
      "execution_count": null,
      "metadata": {
        "colab": {
          "base_uri": "https://localhost:8080/",
          "height": 488
        },
        "id": "-tkj40wHoDla",
        "outputId": "73e0679a-fdd3-4535-ead9-4f7ccedea8c8"
      },
      "outputs": [
        {
          "output_type": "execute_result",
          "data": {
            "text/plain": [
              "       Latitude  Longitude         alt     roll4    pitch5      yaw6  \\\n",
              "0     49.014926   8.434092  116.479019  0.029386  0.010244 -2.651448   \n",
              "1     49.014925   8.434090  116.479141  0.029493  0.010209 -2.651784   \n",
              "2     49.014939   8.434127  116.479263  0.027855  0.012709 -2.642057   \n",
              "3     49.014930   8.434102  116.479469  0.028793  0.010921 -2.648714   \n",
              "4     49.014925   8.434089  116.479324  0.029536  0.010124 -2.652166   \n",
              "...         ...        ...         ...       ...       ...       ...   \n",
              "1163  49.014946   8.434148  116.471375  0.028165  0.009238 -2.636371   \n",
              "1164  49.014923   8.434083  116.479698  0.029344  0.010295 -2.653754   \n",
              "1165  49.014928   8.434096  116.479065  0.029266  0.010416 -2.650287   \n",
              "1166  49.014929   8.434100  116.479317  0.028854  0.011044 -2.649059   \n",
              "1167  49.014937   8.434121  116.480202  0.027861  0.012734 -2.643690   \n",
              "\n",
              "           vn7        ve8        vf9      vl10  ...      wf21      wl22  \\\n",
              "0    -5.903558 -10.730321  12.246465 -0.129769  ...  0.007345 -0.010770   \n",
              "1    -5.893934 -10.723688  12.236022 -0.129124  ...  0.007839 -0.009682   \n",
              "2    -6.142090 -10.888501  12.500562 -0.147715  ... -0.004389  0.020902   \n",
              "3    -5.969836 -10.780078  12.322058 -0.130633  ...  0.006963 -0.014067   \n",
              "4    -5.884659 -10.716595  12.225340 -0.128991  ...  0.007316 -0.009507   \n",
              "...        ...        ...        ...       ...  ...       ...       ...   \n",
              "1163 -6.272388 -10.958835  12.625937 -0.158608  ... -0.016457  0.025429   \n",
              "1164 -5.850205 -10.687577  12.183294 -0.131581  ...  0.001159 -0.002911   \n",
              "1165 -5.931284 -10.751847  12.278706 -0.129507  ...  0.009697 -0.013895   \n",
              "1166 -5.960321 -10.773317  12.311536 -0.130268  ...  0.006841 -0.010181   \n",
              "1167 -6.102369 -10.864056  12.459811 -0.144569  ... -0.002428  0.009944   \n",
              "\n",
              "          wu23  pos_accuracy24  vel_accuracy25  navstat26  numsats27  \\\n",
              "0    -0.039380        0.027659        0.012728          4         11   \n",
              "1    -0.038517        0.027659        0.012728          4         11   \n",
              "2    -0.040179        0.027659        0.012728          4         10   \n",
              "3    -0.039971        0.027659        0.012728          4         10   \n",
              "4    -0.038473        0.027659        0.012728          4         11   \n",
              "...        ...             ...             ...        ...        ...   \n",
              "1163 -0.036584        0.027659        0.012728          4         10   \n",
              "1164 -0.038524        0.027659        0.012728          4         11   \n",
              "1165 -0.039822        0.027659        0.012728          4         11   \n",
              "1166 -0.039173        0.027659        0.012728          4         10   \n",
              "1167 -0.040555        0.027659        0.012728          4         10   \n",
              "\n",
              "      posmode28  velmode29  orimode30  \n",
              "0             6          6          6  \n",
              "1             6          6          6  \n",
              "2             6          6          6  \n",
              "3             6          6          6  \n",
              "4             6          6          6  \n",
              "...         ...        ...        ...  \n",
              "1163          6          6          6  \n",
              "1164          6          6          6  \n",
              "1165          6          6          6  \n",
              "1166          6          6          6  \n",
              "1167          6          6          6  \n",
              "\n",
              "[1168 rows x 30 columns]"
            ],
            "text/html": [
              "\n",
              "  <div id=\"df-2c4016a5-a9ba-4e91-b310-d673579b5a14\">\n",
              "    <div class=\"colab-df-container\">\n",
              "      <div>\n",
              "<style scoped>\n",
              "    .dataframe tbody tr th:only-of-type {\n",
              "        vertical-align: middle;\n",
              "    }\n",
              "\n",
              "    .dataframe tbody tr th {\n",
              "        vertical-align: top;\n",
              "    }\n",
              "\n",
              "    .dataframe thead th {\n",
              "        text-align: right;\n",
              "    }\n",
              "</style>\n",
              "<table border=\"1\" class=\"dataframe\">\n",
              "  <thead>\n",
              "    <tr style=\"text-align: right;\">\n",
              "      <th></th>\n",
              "      <th>Latitude</th>\n",
              "      <th>Longitude</th>\n",
              "      <th>alt</th>\n",
              "      <th>roll4</th>\n",
              "      <th>pitch5</th>\n",
              "      <th>yaw6</th>\n",
              "      <th>vn7</th>\n",
              "      <th>ve8</th>\n",
              "      <th>vf9</th>\n",
              "      <th>vl10</th>\n",
              "      <th>...</th>\n",
              "      <th>wf21</th>\n",
              "      <th>wl22</th>\n",
              "      <th>wu23</th>\n",
              "      <th>pos_accuracy24</th>\n",
              "      <th>vel_accuracy25</th>\n",
              "      <th>navstat26</th>\n",
              "      <th>numsats27</th>\n",
              "      <th>posmode28</th>\n",
              "      <th>velmode29</th>\n",
              "      <th>orimode30</th>\n",
              "    </tr>\n",
              "  </thead>\n",
              "  <tbody>\n",
              "    <tr>\n",
              "      <th>0</th>\n",
              "      <td>49.014926</td>\n",
              "      <td>8.434092</td>\n",
              "      <td>116.479019</td>\n",
              "      <td>0.029386</td>\n",
              "      <td>0.010244</td>\n",
              "      <td>-2.651448</td>\n",
              "      <td>-5.903558</td>\n",
              "      <td>-10.730321</td>\n",
              "      <td>12.246465</td>\n",
              "      <td>-0.129769</td>\n",
              "      <td>...</td>\n",
              "      <td>0.007345</td>\n",
              "      <td>-0.010770</td>\n",
              "      <td>-0.039380</td>\n",
              "      <td>0.027659</td>\n",
              "      <td>0.012728</td>\n",
              "      <td>4</td>\n",
              "      <td>11</td>\n",
              "      <td>6</td>\n",
              "      <td>6</td>\n",
              "      <td>6</td>\n",
              "    </tr>\n",
              "    <tr>\n",
              "      <th>1</th>\n",
              "      <td>49.014925</td>\n",
              "      <td>8.434090</td>\n",
              "      <td>116.479141</td>\n",
              "      <td>0.029493</td>\n",
              "      <td>0.010209</td>\n",
              "      <td>-2.651784</td>\n",
              "      <td>-5.893934</td>\n",
              "      <td>-10.723688</td>\n",
              "      <td>12.236022</td>\n",
              "      <td>-0.129124</td>\n",
              "      <td>...</td>\n",
              "      <td>0.007839</td>\n",
              "      <td>-0.009682</td>\n",
              "      <td>-0.038517</td>\n",
              "      <td>0.027659</td>\n",
              "      <td>0.012728</td>\n",
              "      <td>4</td>\n",
              "      <td>11</td>\n",
              "      <td>6</td>\n",
              "      <td>6</td>\n",
              "      <td>6</td>\n",
              "    </tr>\n",
              "    <tr>\n",
              "      <th>2</th>\n",
              "      <td>49.014939</td>\n",
              "      <td>8.434127</td>\n",
              "      <td>116.479263</td>\n",
              "      <td>0.027855</td>\n",
              "      <td>0.012709</td>\n",
              "      <td>-2.642057</td>\n",
              "      <td>-6.142090</td>\n",
              "      <td>-10.888501</td>\n",
              "      <td>12.500562</td>\n",
              "      <td>-0.147715</td>\n",
              "      <td>...</td>\n",
              "      <td>-0.004389</td>\n",
              "      <td>0.020902</td>\n",
              "      <td>-0.040179</td>\n",
              "      <td>0.027659</td>\n",
              "      <td>0.012728</td>\n",
              "      <td>4</td>\n",
              "      <td>10</td>\n",
              "      <td>6</td>\n",
              "      <td>6</td>\n",
              "      <td>6</td>\n",
              "    </tr>\n",
              "    <tr>\n",
              "      <th>3</th>\n",
              "      <td>49.014930</td>\n",
              "      <td>8.434102</td>\n",
              "      <td>116.479469</td>\n",
              "      <td>0.028793</td>\n",
              "      <td>0.010921</td>\n",
              "      <td>-2.648714</td>\n",
              "      <td>-5.969836</td>\n",
              "      <td>-10.780078</td>\n",
              "      <td>12.322058</td>\n",
              "      <td>-0.130633</td>\n",
              "      <td>...</td>\n",
              "      <td>0.006963</td>\n",
              "      <td>-0.014067</td>\n",
              "      <td>-0.039971</td>\n",
              "      <td>0.027659</td>\n",
              "      <td>0.012728</td>\n",
              "      <td>4</td>\n",
              "      <td>10</td>\n",
              "      <td>6</td>\n",
              "      <td>6</td>\n",
              "      <td>6</td>\n",
              "    </tr>\n",
              "    <tr>\n",
              "      <th>4</th>\n",
              "      <td>49.014925</td>\n",
              "      <td>8.434089</td>\n",
              "      <td>116.479324</td>\n",
              "      <td>0.029536</td>\n",
              "      <td>0.010124</td>\n",
              "      <td>-2.652166</td>\n",
              "      <td>-5.884659</td>\n",
              "      <td>-10.716595</td>\n",
              "      <td>12.225340</td>\n",
              "      <td>-0.128991</td>\n",
              "      <td>...</td>\n",
              "      <td>0.007316</td>\n",
              "      <td>-0.009507</td>\n",
              "      <td>-0.038473</td>\n",
              "      <td>0.027659</td>\n",
              "      <td>0.012728</td>\n",
              "      <td>4</td>\n",
              "      <td>11</td>\n",
              "      <td>6</td>\n",
              "      <td>6</td>\n",
              "      <td>6</td>\n",
              "    </tr>\n",
              "    <tr>\n",
              "      <th>...</th>\n",
              "      <td>...</td>\n",
              "      <td>...</td>\n",
              "      <td>...</td>\n",
              "      <td>...</td>\n",
              "      <td>...</td>\n",
              "      <td>...</td>\n",
              "      <td>...</td>\n",
              "      <td>...</td>\n",
              "      <td>...</td>\n",
              "      <td>...</td>\n",
              "      <td>...</td>\n",
              "      <td>...</td>\n",
              "      <td>...</td>\n",
              "      <td>...</td>\n",
              "      <td>...</td>\n",
              "      <td>...</td>\n",
              "      <td>...</td>\n",
              "      <td>...</td>\n",
              "      <td>...</td>\n",
              "      <td>...</td>\n",
              "      <td>...</td>\n",
              "    </tr>\n",
              "    <tr>\n",
              "      <th>1163</th>\n",
              "      <td>49.014946</td>\n",
              "      <td>8.434148</td>\n",
              "      <td>116.471375</td>\n",
              "      <td>0.028165</td>\n",
              "      <td>0.009238</td>\n",
              "      <td>-2.636371</td>\n",
              "      <td>-6.272388</td>\n",
              "      <td>-10.958835</td>\n",
              "      <td>12.625937</td>\n",
              "      <td>-0.158608</td>\n",
              "      <td>...</td>\n",
              "      <td>-0.016457</td>\n",
              "      <td>0.025429</td>\n",
              "      <td>-0.036584</td>\n",
              "      <td>0.027659</td>\n",
              "      <td>0.012728</td>\n",
              "      <td>4</td>\n",
              "      <td>10</td>\n",
              "      <td>6</td>\n",
              "      <td>6</td>\n",
              "      <td>6</td>\n",
              "    </tr>\n",
              "    <tr>\n",
              "      <th>1164</th>\n",
              "      <td>49.014923</td>\n",
              "      <td>8.434083</td>\n",
              "      <td>116.479698</td>\n",
              "      <td>0.029344</td>\n",
              "      <td>0.010295</td>\n",
              "      <td>-2.653754</td>\n",
              "      <td>-5.850205</td>\n",
              "      <td>-10.687577</td>\n",
              "      <td>12.183294</td>\n",
              "      <td>-0.131581</td>\n",
              "      <td>...</td>\n",
              "      <td>0.001159</td>\n",
              "      <td>-0.002911</td>\n",
              "      <td>-0.038524</td>\n",
              "      <td>0.027659</td>\n",
              "      <td>0.012728</td>\n",
              "      <td>4</td>\n",
              "      <td>11</td>\n",
              "      <td>6</td>\n",
              "      <td>6</td>\n",
              "      <td>6</td>\n",
              "    </tr>\n",
              "    <tr>\n",
              "      <th>1165</th>\n",
              "      <td>49.014928</td>\n",
              "      <td>8.434096</td>\n",
              "      <td>116.479065</td>\n",
              "      <td>0.029266</td>\n",
              "      <td>0.010416</td>\n",
              "      <td>-2.650287</td>\n",
              "      <td>-5.931284</td>\n",
              "      <td>-10.751847</td>\n",
              "      <td>12.278706</td>\n",
              "      <td>-0.129507</td>\n",
              "      <td>...</td>\n",
              "      <td>0.009697</td>\n",
              "      <td>-0.013895</td>\n",
              "      <td>-0.039822</td>\n",
              "      <td>0.027659</td>\n",
              "      <td>0.012728</td>\n",
              "      <td>4</td>\n",
              "      <td>11</td>\n",
              "      <td>6</td>\n",
              "      <td>6</td>\n",
              "      <td>6</td>\n",
              "    </tr>\n",
              "    <tr>\n",
              "      <th>1166</th>\n",
              "      <td>49.014929</td>\n",
              "      <td>8.434100</td>\n",
              "      <td>116.479317</td>\n",
              "      <td>0.028854</td>\n",
              "      <td>0.011044</td>\n",
              "      <td>-2.649059</td>\n",
              "      <td>-5.960321</td>\n",
              "      <td>-10.773317</td>\n",
              "      <td>12.311536</td>\n",
              "      <td>-0.130268</td>\n",
              "      <td>...</td>\n",
              "      <td>0.006841</td>\n",
              "      <td>-0.010181</td>\n",
              "      <td>-0.039173</td>\n",
              "      <td>0.027659</td>\n",
              "      <td>0.012728</td>\n",
              "      <td>4</td>\n",
              "      <td>10</td>\n",
              "      <td>6</td>\n",
              "      <td>6</td>\n",
              "      <td>6</td>\n",
              "    </tr>\n",
              "    <tr>\n",
              "      <th>1167</th>\n",
              "      <td>49.014937</td>\n",
              "      <td>8.434121</td>\n",
              "      <td>116.480202</td>\n",
              "      <td>0.027861</td>\n",
              "      <td>0.012734</td>\n",
              "      <td>-2.643690</td>\n",
              "      <td>-6.102369</td>\n",
              "      <td>-10.864056</td>\n",
              "      <td>12.459811</td>\n",
              "      <td>-0.144569</td>\n",
              "      <td>...</td>\n",
              "      <td>-0.002428</td>\n",
              "      <td>0.009944</td>\n",
              "      <td>-0.040555</td>\n",
              "      <td>0.027659</td>\n",
              "      <td>0.012728</td>\n",
              "      <td>4</td>\n",
              "      <td>10</td>\n",
              "      <td>6</td>\n",
              "      <td>6</td>\n",
              "      <td>6</td>\n",
              "    </tr>\n",
              "  </tbody>\n",
              "</table>\n",
              "<p>1168 rows × 30 columns</p>\n",
              "</div>\n",
              "      <button class=\"colab-df-convert\" onclick=\"convertToInteractive('df-2c4016a5-a9ba-4e91-b310-d673579b5a14')\"\n",
              "              title=\"Convert this dataframe to an interactive table.\"\n",
              "              style=\"display:none;\">\n",
              "        \n",
              "  <svg xmlns=\"http://www.w3.org/2000/svg\" height=\"24px\"viewBox=\"0 0 24 24\"\n",
              "       width=\"24px\">\n",
              "    <path d=\"M0 0h24v24H0V0z\" fill=\"none\"/>\n",
              "    <path d=\"M18.56 5.44l.94 2.06.94-2.06 2.06-.94-2.06-.94-.94-2.06-.94 2.06-2.06.94zm-11 1L8.5 8.5l.94-2.06 2.06-.94-2.06-.94L8.5 2.5l-.94 2.06-2.06.94zm10 10l.94 2.06.94-2.06 2.06-.94-2.06-.94-.94-2.06-.94 2.06-2.06.94z\"/><path d=\"M17.41 7.96l-1.37-1.37c-.4-.4-.92-.59-1.43-.59-.52 0-1.04.2-1.43.59L10.3 9.45l-7.72 7.72c-.78.78-.78 2.05 0 2.83L4 21.41c.39.39.9.59 1.41.59.51 0 1.02-.2 1.41-.59l7.78-7.78 2.81-2.81c.8-.78.8-2.07 0-2.86zM5.41 20L4 18.59l7.72-7.72 1.47 1.35L5.41 20z\"/>\n",
              "  </svg>\n",
              "      </button>\n",
              "      \n",
              "  <style>\n",
              "    .colab-df-container {\n",
              "      display:flex;\n",
              "      flex-wrap:wrap;\n",
              "      gap: 12px;\n",
              "    }\n",
              "\n",
              "    .colab-df-convert {\n",
              "      background-color: #E8F0FE;\n",
              "      border: none;\n",
              "      border-radius: 50%;\n",
              "      cursor: pointer;\n",
              "      display: none;\n",
              "      fill: #1967D2;\n",
              "      height: 32px;\n",
              "      padding: 0 0 0 0;\n",
              "      width: 32px;\n",
              "    }\n",
              "\n",
              "    .colab-df-convert:hover {\n",
              "      background-color: #E2EBFA;\n",
              "      box-shadow: 0px 1px 2px rgba(60, 64, 67, 0.3), 0px 1px 3px 1px rgba(60, 64, 67, 0.15);\n",
              "      fill: #174EA6;\n",
              "    }\n",
              "\n",
              "    [theme=dark] .colab-df-convert {\n",
              "      background-color: #3B4455;\n",
              "      fill: #D2E3FC;\n",
              "    }\n",
              "\n",
              "    [theme=dark] .colab-df-convert:hover {\n",
              "      background-color: #434B5C;\n",
              "      box-shadow: 0px 1px 3px 1px rgba(0, 0, 0, 0.15);\n",
              "      filter: drop-shadow(0px 1px 2px rgba(0, 0, 0, 0.3));\n",
              "      fill: #FFFFFF;\n",
              "    }\n",
              "  </style>\n",
              "\n",
              "      <script>\n",
              "        const buttonEl =\n",
              "          document.querySelector('#df-2c4016a5-a9ba-4e91-b310-d673579b5a14 button.colab-df-convert');\n",
              "        buttonEl.style.display =\n",
              "          google.colab.kernel.accessAllowed ? 'block' : 'none';\n",
              "\n",
              "        async function convertToInteractive(key) {\n",
              "          const element = document.querySelector('#df-2c4016a5-a9ba-4e91-b310-d673579b5a14');\n",
              "          const dataTable =\n",
              "            await google.colab.kernel.invokeFunction('convertToInteractive',\n",
              "                                                     [key], {});\n",
              "          if (!dataTable) return;\n",
              "\n",
              "          const docLinkHtml = 'Like what you see? Visit the ' +\n",
              "            '<a target=\"_blank\" href=https://colab.research.google.com/notebooks/data_table.ipynb>data table notebook</a>'\n",
              "            + ' to learn more about interactive tables.';\n",
              "          element.innerHTML = '';\n",
              "          dataTable['output_type'] = 'display_data';\n",
              "          await google.colab.output.renderOutput(dataTable, element);\n",
              "          const docLink = document.createElement('div');\n",
              "          docLink.innerHTML = docLinkHtml;\n",
              "          element.appendChild(docLink);\n",
              "        }\n",
              "      </script>\n",
              "    </div>\n",
              "  </div>\n",
              "  "
            ]
          },
          "metadata": {},
          "execution_count": 4
        }
      ],
      "source": [
        "combined"
      ]
    },
    {
      "cell_type": "code",
      "source": [
        "from sklearn.decomposition import PCA\n",
        "pca = PCA(0.999)"
      ],
      "metadata": {
        "id": "p4GjdEJEjEmi"
      },
      "execution_count": null,
      "outputs": []
    },
    {
      "cell_type": "code",
      "source": [
        "data = combined.values[:,0:2]\n",
        "k5 = pca.fit_transform(data)"
      ],
      "metadata": {
        "id": "WsJ9TnKgi-ON"
      },
      "execution_count": null,
      "outputs": []
    },
    {
      "cell_type": "code",
      "source": [
        "sc1 = MinMaxScaler()\n",
        "\n",
        "plt.title('Kitti GPS values')\n",
        "plt.plot(sc1.fit_transform(combined['Latitude'].values.reshape(-1,1)), label = 'Latitude')\n",
        "plt.plot(sc1.fit_transform(combined['Longitude'].values.reshape(-1,1)), label = 'Longitude')\n",
        "plt.legend(loc= 'lower left')"
      ],
      "metadata": {
        "colab": {
          "base_uri": "https://localhost:8080/",
          "height": 298
        },
        "id": "r-l7PoQZjLe_",
        "outputId": "a566b35d-40b0-4372-a249-16bbb698ed19"
      },
      "execution_count": null,
      "outputs": [
        {
          "output_type": "execute_result",
          "data": {
            "text/plain": [
              "<matplotlib.legend.Legend at 0x7f1b16953850>"
            ]
          },
          "metadata": {},
          "execution_count": 7
        },
        {
          "output_type": "display_data",
          "data": {
            "text/plain": [
              "<Figure size 432x288 with 1 Axes>"
            ],
            "image/png": "[encoded data removed]"
          },
          "metadata": {
            "needs_background": "light"
          }
        }
      ]
    },
    {
      "cell_type": "code",
      "execution_count": null,
      "metadata": {
        "id": "wHlKXabHM6MH"
      },
      "outputs": [],
      "source": [
        "virtual =pd.read_csv('/content/drive/My Drive/ML_PROJECT/virtual.csv', sep=\",\", names= ['Latitude', 'Longitude'])"
      ]
    },
    {
      "cell_type": "code",
      "execution_count": null,
      "metadata": {
        "colab": {
          "base_uri": "https://localhost:8080/",
          "height": 424
        },
        "id": "Oa9TVtYuOKSY",
        "outputId": "ce2753bd-84b5-409d-a853-f149c190b13e"
      },
      "outputs": [
        {
          "output_type": "execute_result",
          "data": {
            "text/plain": [
              "      Latitude   Longitude\n",
              "0    47.641468 -122.140165\n",
              "1    47.641488 -122.140143\n",
              "2    47.641497 -122.140108\n",
              "3    47.641497 -122.140074\n",
              "4    47.641485 -122.140039\n",
              "..         ...         ...\n",
              "697  47.640647 -122.142150\n",
              "698  47.640593 -122.142208\n",
              "699  47.640547 -122.142283\n",
              "700  47.640511 -122.142371\n",
              "701  47.640490 -122.142472\n",
              "\n",
              "[702 rows x 2 columns]"
            ],
            "text/html": [
              "\n",
              "  <div id=\"df-b8f7dbc0-af6e-44a6-9623-8e82ba414138\">\n",
              "    <div class=\"colab-df-container\">\n",
              "      <div>\n",
              "<style scoped>\n",
              "    .dataframe tbody tr th:only-of-type {\n",
              "        vertical-align: middle;\n",
              "    }\n",
              "\n",
              "    .dataframe tbody tr th {\n",
              "        vertical-align: top;\n",
              "    }\n",
              "\n",
              "    .dataframe thead th {\n",
              "        text-align: right;\n",
              "    }\n",
              "</style>\n",
              "<table border=\"1\" class=\"dataframe\">\n",
              "  <thead>\n",
              "    <tr style=\"text-align: right;\">\n",
              "      <th></th>\n",
              "      <th>Latitude</th>\n",
              "      <th>Longitude</th>\n",
              "    </tr>\n",
              "  </thead>\n",
              "  <tbody>\n",
              "    <tr>\n",
              "      <th>0</th>\n",
              "      <td>47.641468</td>\n",
              "      <td>-122.140165</td>\n",
              "    </tr>\n",
              "    <tr>\n",
              "      <th>1</th>\n",
              "      <td>47.641488</td>\n",
              "      <td>-122.140143</td>\n",
              "    </tr>\n",
              "    <tr>\n",
              "      <th>2</th>\n",
              "      <td>47.641497</td>\n",
              "      <td>-122.140108</td>\n",
              "    </tr>\n",
              "    <tr>\n",
              "      <th>3</th>\n",
              "      <td>47.641497</td>\n",
              "      <td>-122.140074</td>\n",
              "    </tr>\n",
              "    <tr>\n",
              "      <th>4</th>\n",
              "      <td>47.641485</td>\n",
              "      <td>-122.140039</td>\n",
              "    </tr>\n",
              "    <tr>\n",
              "      <th>...</th>\n",
              "      <td>...</td>\n",
              "      <td>...</td>\n",
              "    </tr>\n",
              "    <tr>\n",
              "      <th>697</th>\n",
              "      <td>47.640647</td>\n",
              "      <td>-122.142150</td>\n",
              "    </tr>\n",
              "    <tr>\n",
              "      <th>698</th>\n",
              "      <td>47.640593</td>\n",
              "      <td>-122.142208</td>\n",
              "    </tr>\n",
              "    <tr>\n",
              "      <th>699</th>\n",
              "      <td>47.640547</td>\n",
              "      <td>-122.142283</td>\n",
              "    </tr>\n",
              "    <tr>\n",
              "      <th>700</th>\n",
              "      <td>47.640511</td>\n",
              "      <td>-122.142371</td>\n",
              "    </tr>\n",
              "    <tr>\n",
              "      <th>701</th>\n",
              "      <td>47.640490</td>\n",
              "      <td>-122.142472</td>\n",
              "    </tr>\n",
              "  </tbody>\n",
              "</table>\n",
              "<p>702 rows × 2 columns</p>\n",
              "</div>\n",
              "      <button class=\"colab-df-convert\" onclick=\"convertToInteractive('df-b8f7dbc0-af6e-44a6-9623-8e82ba414138')\"\n",
              "              title=\"Convert this dataframe to an interactive table.\"\n",
              "              style=\"display:none;\">\n",
              "        \n",
              "  <svg xmlns=\"http://www.w3.org/2000/svg\" height=\"24px\"viewBox=\"0 0 24 24\"\n",
              "       width=\"24px\">\n",
              "    <path d=\"M0 0h24v24H0V0z\" fill=\"none\"/>\n",
              "    <path d=\"M18.56 5.44l.94 2.06.94-2.06 2.06-.94-2.06-.94-.94-2.06-.94 2.06-2.06.94zm-11 1L8.5 8.5l.94-2.06 2.06-.94-2.06-.94L8.5 2.5l-.94 2.06-2.06.94zm10 10l.94 2.06.94-2.06 2.06-.94-2.06-.94-.94-2.06-.94 2.06-2.06.94z\"/><path d=\"M17.41 7.96l-1.37-1.37c-.4-.4-.92-.59-1.43-.59-.52 0-1.04.2-1.43.59L10.3 9.45l-7.72 7.72c-.78.78-.78 2.05 0 2.83L4 21.41c.39.39.9.59 1.41.59.51 0 1.02-.2 1.41-.59l7.78-7.78 2.81-2.81c.8-.78.8-2.07 0-2.86zM5.41 20L4 18.59l7.72-7.72 1.47 1.35L5.41 20z\"/>\n",
              "  </svg>\n",
              "      </button>\n",
              "      \n",
              "  <style>\n",
              "    .colab-df-container {\n",
              "      display:flex;\n",
              "      flex-wrap:wrap;\n",
              "      gap: 12px;\n",
              "    }\n",
              "\n",
              "    .colab-df-convert {\n",
              "      background-color: #E8F0FE;\n",
              "      border: none;\n",
              "      border-radius: 50%;\n",
              "      cursor: pointer;\n",
              "      display: none;\n",
              "      fill: #1967D2;\n",
              "      height: 32px;\n",
              "      padding: 0 0 0 0;\n",
              "      width: 32px;\n",
              "    }\n",
              "\n",
              "    .colab-df-convert:hover {\n",
              "      background-color: #E2EBFA;\n",
              "      box-shadow: 0px 1px 2px rgba(60, 64, 67, 0.3), 0px 1px 3px 1px rgba(60, 64, 67, 0.15);\n",
              "      fill: #174EA6;\n",
              "    }\n",
              "\n",
              "    [theme=dark] .colab-df-convert {\n",
              "      background-color: #3B4455;\n",
              "      fill: #D2E3FC;\n",
              "    }\n",
              "\n",
              "    [theme=dark] .colab-df-convert:hover {\n",
              "      background-color: #434B5C;\n",
              "      box-shadow: 0px 1px 3px 1px rgba(0, 0, 0, 0.15);\n",
              "      filter: drop-shadow(0px 1px 2px rgba(0, 0, 0, 0.3));\n",
              "      fill: #FFFFFF;\n",
              "    }\n",
              "  </style>\n",
              "\n",
              "      <script>\n",
              "        const buttonEl =\n",
              "          document.querySelector('#df-b8f7dbc0-af6e-44a6-9623-8e82ba414138 button.colab-df-convert');\n",
              "        buttonEl.style.display =\n",
              "          google.colab.kernel.accessAllowed ? 'block' : 'none';\n",
              "\n",
              "        async function convertToInteractive(key) {\n",
              "          const element = document.querySelector('#df-b8f7dbc0-af6e-44a6-9623-8e82ba414138');\n",
              "          const dataTable =\n",
              "            await google.colab.kernel.invokeFunction('convertToInteractive',\n",
              "                                                     [key], {});\n",
              "          if (!dataTable) return;\n",
              "\n",
              "          const docLinkHtml = 'Like what you see? Visit the ' +\n",
              "            '<a target=\"_blank\" href=https://colab.research.google.com/notebooks/data_table.ipynb>data table notebook</a>'\n",
              "            + ' to learn more about interactive tables.';\n",
              "          element.innerHTML = '';\n",
              "          dataTable['output_type'] = 'display_data';\n",
              "          await google.colab.output.renderOutput(dataTable, element);\n",
              "          const docLink = document.createElement('div');\n",
              "          docLink.innerHTML = docLinkHtml;\n",
              "          element.appendChild(docLink);\n",
              "        }\n",
              "      </script>\n",
              "    </div>\n",
              "  </div>\n",
              "  "
            ]
          },
          "metadata": {},
          "execution_count": 9
        }
      ],
      "source": [
        "virtual"
      ]
    },
    {
      "cell_type": "code",
      "source": [
        "real_world_dataset = pd.read_csv('/content/drive/My Drive/ML_PROJECT/S-M.csv')\n",
        "\n",
        "sc2 = MinMaxScaler()\n",
        "lats = sc2.fit_transform(real_world_dataset.values[:,0].reshape(-1,1))\n",
        "lat_new = []\n",
        "for i in range(0,len(lats),100):\n",
        "    lat_new.append(lats[i])\n",
        "\n",
        "\n",
        "sc3 = MinMaxScaler()\n",
        "long = sc3.fit_transform(real_world_dataset.values[:,1].reshape(-1,1))\n",
        "long_new = []\n",
        "for i in range(0,len(long),100):\n",
        "    long_new.append(long[i])"
      ],
      "metadata": {
        "id": "s6OTEjqQjy3s"
      },
      "execution_count": null,
      "outputs": []
    },
    {
      "cell_type": "code",
      "source": [
        "plt.plot(lat_new, label = 'latitude')\n",
        "plt.plot(long_new, label = 'longitude')\n",
        "plt.legend(loc=\"lower left\")\n",
        "plt.title(\"Real world value variation in latitude and longitude\")\n",
        "len(lat_new)"
      ],
      "metadata": {
        "colab": {
          "base_uri": "https://localhost:8080/",
          "height": 298
        },
        "id": "wG15bMJMk63r",
        "outputId": "4973fd70-3a87-4b69-a3f7-f0a41b04c5f4"
      },
      "execution_count": null,
      "outputs": [
        {
          "output_type": "execute_result",
          "data": {
            "text/plain": [
              "1060"
            ]
          },
          "metadata": {},
          "execution_count": 11
        },
        {
          "output_type": "display_data",
          "data": {
            "text/plain": [
              "<Figure size 432x288 with 1 Axes>"
            ],
            "image/png": "[encoded data removed]"
          },
          "metadata": {
            "needs_background": "light"
          }
        }
      ]
    },
    {
      "cell_type": "code",
      "execution_count": null,
      "metadata": {
        "id": "nrZx8iNLbCT8"
      },
      "outputs": [],
      "source": [
        "sc2 = MinMaxScaler()\n",
        "#lats_sim = sc2.fit_transform(virtual_data_array[:,0].reshape(-1,1))\n",
        "lats_sim = virtual.values[:,0].reshape(-1,1)\n",
        "lats_sim_arr = []\n",
        "for i in range(0,len(lats_sim),2):\n",
        "    lats_sim_arr.append(lats_sim[i])\n",
        "lats_sim_arr = sc2.fit_transform(lats_sim_arr)\n",
        "\n",
        "sc3 = MinMaxScaler()\n",
        "#long_sim = sc3.fit_transform(virtual.values[:,1].reshape(-1,1))\n",
        "long_sim = virtual.values[:,1].reshape(-1,1)\n",
        "long_sim_arr = []\n",
        "for i in range(0,len(long_sim),2):\n",
        "    long_sim_arr.append(long_sim[i])\n",
        "\n",
        "long_sim_arr = sc3.fit_transform(long_sim_arr)"
      ]
    },
    {
      "cell_type": "code",
      "source": [
        "plt.title(\"Our Airsim Outlier removed normalized dataset\")\n",
        "plt.plot(lats_sim_arr, label = 'latitude')\n",
        "plt.plot(long_sim_arr, label = 'longitude')\n",
        "plt.legend(loc = 'lower left')"
      ],
      "metadata": {
        "colab": {
          "base_uri": "https://localhost:8080/",
          "height": 298
        },
        "id": "FKCbzQfmlKP6",
        "outputId": "40f3d4c6-31d3-446d-9082-0cf488bc655f"
      },
      "execution_count": null,
      "outputs": [
        {
          "output_type": "execute_result",
          "data": {
            "text/plain": [
              "<matplotlib.legend.Legend at 0x7f1b113d4fa0>"
            ]
          },
          "metadata": {},
          "execution_count": 13
        },
        {
          "output_type": "display_data",
          "data": {
            "text/plain": [
              "<Figure size 432x288 with 1 Axes>"
            ],
            "image/png": "[encoded data removed]"
          },
          "metadata": {
            "needs_background": "light"
          }
        }
      ]
    },
    {
      "cell_type": "code",
      "source": [
        "total_length = 300\n",
        "lat_new = lat_new[0:total_length]\n",
        "long_new = long_new[0:total_length]\n",
        "real_world = np.hstack((lat_new,long_new))\n",
        "\n",
        "lats_sim_arr_new  = lats_sim_arr[0:total_length]\n",
        "long_sim_arr_new  = long_sim_arr[0:total_length]\n",
        "sim_world = np.hstack((lats_sim_arr_new,long_sim_arr_new))"
      ],
      "metadata": {
        "id": "HFKPlh41lPT_"
      },
      "execution_count": null,
      "outputs": []
    },
    {
      "cell_type": "code",
      "source": [
        "plt.plot(real_world, label = [\"real world latitude\",\"real world longitude\"])\n",
        "plt.plot(sim_world, label = [\"sim world latitude\",\"sim world longitude\"])\n",
        "plt.legend(loc = \"lower left\")\n",
        "plt.title('Comparison of GPS values')"
      ],
      "metadata": {
        "colab": {
          "base_uri": "https://localhost:8080/",
          "height": 298
        },
        "id": "chTbgAaqlWE_",
        "outputId": "1d5c10b9-5888-4f6b-db1b-04de65f617f5"
      },
      "execution_count": null,
      "outputs": [
        {
          "output_type": "execute_result",
          "data": {
            "text/plain": [
              "Text(0.5, 1.0, 'Comparison of GPS values')"
            ]
          },
          "metadata": {},
          "execution_count": 15
        },
        {
          "output_type": "display_data",
          "data": {
            "text/plain": [
              "<Figure size 432x288 with 1 Axes>"
            ],
            "image/png": "[encoded data removed]"
          },
          "metadata": {
            "needs_background": "light"
          }
        }
      ]
    },
    {
      "cell_type": "code",
      "source": [
        "inputs = []\n",
        "outputs = []"
      ],
      "metadata": {
        "id": "AwIpMEDblbbP"
      },
      "execution_count": null,
      "outputs": []
    },
    {
      "cell_type": "code",
      "source": [
        "import math\n",
        "\n",
        "look_back = 10\n",
        "x = sim_world\n",
        "\n",
        "for i in range (len(x)-1):\n",
        "    start = 0\n",
        "    for j in range (len(x) - look_back):\n",
        "        stop = start + look_back\n",
        "        \n",
        "        input = x[start:stop]\n",
        "        #output = y[i][mid_value+start]\n",
        "        output = 1\n",
        "        start += 1\n",
        "        inputs.append(input)\n",
        "        outputs.append(output)\n",
        "    \n",
        "        #print('input', input)\n",
        "        #print('output', output)\n",
        "        #print('start', start)\n",
        "        #print(y[0][0:5])\n",
        "        "
      ],
      "metadata": {
        "id": "kluMi5J8ldRl"
      },
      "execution_count": null,
      "outputs": []
    },
    {
      "cell_type": "code",
      "source": [
        "inputs = np.array(inputs)\n",
        "outputs= np.array(outputs)"
      ],
      "metadata": {
        "id": "QXzmXQtsmFNS"
      },
      "execution_count": null,
      "outputs": []
    },
    {
      "cell_type": "code",
      "source": [
        "from sklearn.model_selection import train_test_split\n",
        "X_train, X_test, y_train, y_test = train_test_split( inputs, outputs, test_size=0.5, shuffle= True, random_state=42)"
      ],
      "metadata": {
        "id": "5vh09GQbmRF8"
      },
      "execution_count": null,
      "outputs": []
    },
    {
      "cell_type": "code",
      "source": [
        "# helps in model building\n",
        "from tensorflow.keras.preprocessing.sequence import pad_sequences\n",
        "from tensorflow.keras.preprocessing.text import Tokenizer\n",
        "\n",
        "# helps in model building\n",
        "from tensorflow.keras.models import Sequential\n",
        "from tensorflow.keras.layers import Dense\n",
        "from tensorflow.keras.layers import SimpleRNN\n",
        "from tensorflow.keras.layers import Flatten\n",
        "from tensorflow.keras.layers import Dropout\n",
        "from tensorflow.keras.layers import Embedding\n",
        "from tensorflow.keras.callbacks import EarlyStopping\n",
        "\n",
        "\n",
        "from tensorflow.keras.models import Sequential\n",
        "from tensorflow.keras.layers import *\n",
        "from tensorflow.keras.callbacks import ModelCheckpoint\n",
        "from tensorflow.keras.losses import MeanSquaredError, sparse_categorical_crossentropy, categorical_crossentropy\n",
        "from tensorflow.keras.metrics import RootMeanSquaredError, MeanAbsolutePercentageError, SparseCategoricalCrossentropy\n",
        "from tensorflow.keras.optimizers import Adam\n",
        "\n",
        "import pandas as pd"
      ],
      "metadata": {
        "id": "rwGmWdZSmUch"
      },
      "execution_count": null,
      "outputs": []
    },
    {
      "cell_type": "code",
      "source": [
        "\n",
        "model1 = Sequential()\n",
        "model1.add(InputLayer((10, 2)))\n",
        "model1.add(GRU(100, activation = 'tanh', return_sequences = True))\n",
        "model1.add(GRU(80, activation = 'tanh',  dropout = 0.9))\n",
        "model1.add(tf.keras.layers.Dropout(0.8))\n",
        "model1.add(Dense(80, activation  = 'relu'))\n",
        "model1.add(tf.keras.layers.Dropout(0.8))\n",
        "model1.add(Dense(4, activation = 'Softmax'))\n",
        "#model1.add(Dense(39, 'linear'))\n",
        "\n",
        "model1.summary()"
      ],
      "metadata": {
        "colab": {
          "base_uri": "https://localhost:8080/"
        },
        "id": "k1e7Rubhmkhb",
        "outputId": "bb23b677-283f-4943-84bc-a8d4592fa485"
      },
      "execution_count": null,
      "outputs": [
        {
          "output_type": "stream",
          "name": "stdout",
          "text": [
            "Model: \"sequential\"\n",
            "_________________________________________________________________\n",
            " Layer (type)                Output Shape              Param #   \n",
            "=================================================================\n",
            " gru (GRU)                   (None, 10, 100)           31200     \n",
            "                                                                 \n",
            " gru_1 (GRU)                 (None, 80)                43680     \n",
            "                                                                 \n",
            " dropout (Dropout)           (None, 80)                0         \n",
            "                                                                 \n",
            " dense (Dense)               (None, 80)                6480      \n",
            "                                                                 \n",
            " dropout_1 (Dropout)         (None, 80)                0         \n",
            "                                                                 \n",
            " dense_1 (Dense)             (None, 4)                 324       \n",
            "                                                                 \n",
            "=================================================================\n",
            "Total params: 81,684\n",
            "Trainable params: 81,684\n",
            "Non-trainable params: 0\n",
            "_________________________________________________________________\n"
          ]
        }
      ]
    },
    {
      "cell_type": "code",
      "source": [
        "from keras import backend as K\n",
        "\n",
        "def recall_m(y_true, y_pred):\n",
        "    true_positives = K.sum(K.round(K.clip(y_true * y_pred, 0, 1)))\n",
        "    possible_positives = K.sum(K.round(K.clip(y_true, 0, 1)))\n",
        "    recall = true_positives / (possible_positives + K.epsilon())\n",
        "    return recall\n",
        "\n",
        "def precision_m(y_true, y_pred):\n",
        "    true_positives = K.sum(K.round(K.clip(y_true * y_pred, 0, 1)))\n",
        "    predicted_positives = K.sum(K.round(K.clip(y_pred, 0, 1)))\n",
        "    precision = true_positives / (predicted_positives + K.epsilon())\n",
        "    return precision\n",
        "\n",
        "def f1_m(y_true, y_pred):\n",
        "    precision = precision_m(y_true, y_pred)\n",
        "    recall = recall_m(y_true, y_pred)\n",
        "    return 2*((precision*recall)/(precision+recall+K.epsilon()))"
      ],
      "metadata": {
        "id": "q4Y9zWp1qTij"
      },
      "execution_count": null,
      "outputs": []
    },
    {
      "cell_type": "code",
      "source": [
        "model1.compile(optimizer=tf.keras.optimizers.Adam(learning_rate=0.001),\n",
        "              loss=tf.keras.losses.SparseCategoricalCrossentropy(from_logits=True),\n",
        "              metrics=['accuracy',f1_m,precision_m, recall_m])\n",
        "\n",
        "history = model1.fit(X_train, y_train,validation_data=(X_test,y_test), batch_size = 1024,epochs=3)"
      ],
      "metadata": {
        "colab": {
          "base_uri": "https://localhost:8080/"
        },
        "id": "KRyFEIzImlNm",
        "outputId": "75357b4e-935c-468c-c3ba-c10d4177b4f3"
      },
      "execution_count": null,
      "outputs": [
        {
          "output_type": "stream",
          "name": "stdout",
          "text": [
            "Epoch 1/3\n",
            "43/43 [==============================] - 18s 319ms/step - loss: 0.9423 - accuracy: 0.8385 - val_loss: 0.7437 - val_accuracy: 1.0000\n",
            "Epoch 2/3\n",
            "43/43 [==============================] - 13s 305ms/step - loss: 0.7487 - accuracy: 0.9974 - val_loss: 0.7437 - val_accuracy: 1.0000\n",
            "Epoch 3/3\n",
            "43/43 [==============================] - 12s 290ms/step - loss: 0.7462 - accuracy: 0.9988 - val_loss: 0.7437 - val_accuracy: 1.0000\n"
          ]
        }
      ]
    },
    {
      "cell_type": "code",
      "source": [
        "plt.plot(history.history[\"loss\"], label=\"training loss\")\n",
        "plt.plot(history.history[\"val_loss\"], label=\"validation loss\")\n",
        "plt.legend()\n",
        "plt.show()"
      ],
      "metadata": {
        "colab": {
          "base_uri": "https://localhost:8080/",
          "height": 267
        },
        "id": "0Fix9Kh_naP-",
        "outputId": "77590782-5f18-448f-d5f9-0e4f4c3f0333"
      },
      "execution_count": null,
      "outputs": [
        {
          "output_type": "display_data",
          "data": {
            "text/plain": [
              "<Figure size 432x288 with 1 Axes>"
            ],
            "image/png": "[encoded data removed]"
          },
          "metadata": {
            "needs_background": "light"
          }
        }
      ]
    },
    {
      "cell_type": "code",
      "source": [
        "plt.plot(history.history[\"accuracy\"], label=\"training accuracy\")\n",
        "plt.plot(history.history[\"val_accuracy\"], label=\"validation accuracy\")\n",
        "plt.legend()\n",
        "plt.show()"
      ],
      "metadata": {
        "colab": {
          "base_uri": "https://localhost:8080/",
          "height": 265
        },
        "id": "UfrwwL4goU2l",
        "outputId": "6aaa351e-9ebc-4409-f984-a52bc60b84e3"
      },
      "execution_count": null,
      "outputs": [
        {
          "output_type": "display_data",
          "data": {
            "text/plain": [
              "<Figure size 432x288 with 1 Axes>"
            ],
            "image/png": "[encoded data removed]"
          },
          "metadata": {
            "needs_background": "light"
          }
        }
      ]
    },
    {
      "cell_type": "code",
      "source": [
        "scores = model.evaluate(generator2)\n",
        "print(\"Accuracy: %.2f%%\" % (scores[1]*100))"
      ],
      "metadata": {
        "colab": {
          "base_uri": "https://localhost:8080/",
          "height": 183
        },
        "id": "BNzMh3qfqxig",
        "outputId": "28b19d63-9451-488d-df6d-a2b9550bc29b"
      },
      "execution_count": null,
      "outputs": [
        {
          "output_type": "error",
          "ename": "NameError",
          "evalue": "ignored",
          "traceback": [
            "\u001b[0;31m---------------------------------------------------------------------------\u001b[0m",
            "\u001b[0;31mNameError\u001b[0m                                 Traceback (most recent call last)",
            "\u001b[0;32m<ipython-input-26-bd37667625ff>\u001b[0m in \u001b[0;36m<module>\u001b[0;34m\u001b[0m\n\u001b[0;32m----> 1\u001b[0;31m \u001b[0mscores\u001b[0m \u001b[0;34m=\u001b[0m \u001b[0mmodel\u001b[0m\u001b[0;34m.\u001b[0m\u001b[0mevaluate\u001b[0m\u001b[0;34m(\u001b[0m\u001b[0mgenerator2\u001b[0m\u001b[0;34m)\u001b[0m\u001b[0;34m\u001b[0m\u001b[0;34m\u001b[0m\u001b[0m\n\u001b[0m\u001b[1;32m      2\u001b[0m \u001b[0mprint\u001b[0m\u001b[0;34m(\u001b[0m\u001b[0;34m\"Accuracy: %.2f%%\"\u001b[0m \u001b[0;34m%\u001b[0m \u001b[0;34m(\u001b[0m\u001b[0mscores\u001b[0m\u001b[0;34m[\u001b[0m\u001b[0;36m1\u001b[0m\u001b[0;34m]\u001b[0m\u001b[0;34m*\u001b[0m\u001b[0;36m100\u001b[0m\u001b[0;34m)\u001b[0m\u001b[0;34m)\u001b[0m\u001b[0;34m\u001b[0m\u001b[0;34m\u001b[0m\u001b[0m\n",
            "\u001b[0;31mNameError\u001b[0m: name 'model' is not defined"
          ]
        }
      ]
    }
  ],
  "metadata": {
    "colab": {
      "provenance": []
    },
    "kernelspec": {
      "display_name": "Python 3",
      "name": "python3"
    },
    "language_info": {
      "name": "python"
    }
  },
  "nbformat": 4,
  "nbformat_minor": 0
}